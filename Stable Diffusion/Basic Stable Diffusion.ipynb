{
 "cells": [
  {
   "cell_type": "code",
   "execution_count": null,
   "metadata": {},
   "outputs": [],
   "source": [
    "!pip install transformers\n",
    "!pip install diffusers==0.11.1\n",
    "!pip install transformers scipy ftfy accelerate"
   ]
  },
  {
   "cell_type": "code",
   "execution_count": null,
   "metadata": {},
   "outputs": [],
   "source": [
    "import pickle\n",
    "import torch"
   ]
  },
  {
   "cell_type": "code",
   "execution_count": null,
   "metadata": {},
   "outputs": [],
   "source": [
    "from google.colab import drive\n",
    "drive.mount('/content/drive')"
   ]
  },
  {
   "cell_type": "code",
   "execution_count": null,
   "metadata": {},
   "outputs": [],
   "source": [
    "# 저장된 모델 인스턴스 파일 경로\n",
    "file_path = f\"/content/drive/MyDrive/[빅프로젝트] 1조/[1]AI_파일/\"\n",
    "file_name = f\"SD_model_2.1.pkl\"\n",
    "\n",
    "# 모델 인스턴스 로드\n",
    "with open(file_path+file_name, \"rb\") as f:\n",
    "    pipe = pickle.load(f)\n",
    "\n",
    "print(\"모델 인스턴스가 성공적으로 로드되었습니다.\")"
   ]
  },
  {
   "cell_type": "code",
   "execution_count": null,
   "metadata": {},
   "outputs": [],
   "source": [
    "# GPU 할당 및 효율적인 GPU 적용\n",
    "pipe = pipe.to(\"cuda\")\n",
    "pipe.enable_attention_slicing()"
   ]
  },
  {
   "cell_type": "code",
   "execution_count": null,
   "metadata": {},
   "outputs": [],
   "source": [
    "prompt = '''\n",
    "Tiny cute squirrel toy, reading a book, standing character,\n",
    "soft smooth lighting, soft pastel colors, skottie young, 3d blender render,\n",
    "polycount, modular constructivism, pop surrealism, physically based rendering, square image\"\n",
    "'''"
   ]
  },
  {
   "cell_type": "code",
   "execution_count": null,
   "metadata": {},
   "outputs": [],
   "source": [
    "generator = torch.Generator(\"cuda\").manual_seed(518)\n",
    "image = pipe(prompt, generator=generator).images[0]"
   ]
  },
  {
   "cell_type": "code",
   "execution_count": null,
   "metadata": {},
   "outputs": [],
   "source": [
    "image"
   ]
  }
 ],
 "metadata": {
  "language_info": {
   "name": "python"
  },
  "orig_nbformat": 4
 },
 "nbformat": 4,
 "nbformat_minor": 2
}
